{
 "cells": [
  {
   "cell_type": "code",
   "execution_count": 20,
   "id": "5d817aec-03a7-47c1-8140-fdb83a12924f",
   "metadata": {},
   "outputs": [],
   "source": [
    "from fastai.vision.all import *"
   ]
  },
  {
   "cell_type": "code",
   "execution_count": 21,
   "id": "17a74971-977a-4b35-90e1-9749bd3c560a",
   "metadata": {},
   "outputs": [],
   "source": [
    "# LOAD THE MODEL FOR INFERENCE\n",
    "wo_learn_inf = load_learner('export.pkl')"
   ]
  },
  {
   "cell_type": "code",
   "execution_count": 22,
   "id": "d1ef507d-32de-404d-aaf9-2cd47b9ea1dd",
   "metadata": {},
   "outputs": [],
   "source": [
    "# INITIALISE REQUIRED OBJECTS\n",
    "classify_btn = widgets.Button(description=\"Classify\")\n",
    "out_widget = widgets.Output()\n",
    "wo_label = widgets.Label()\n",
    "btn_upload = widgets.FileUpload()"
   ]
  },
  {
   "cell_type": "code",
   "execution_count": 23,
   "id": "7497b012-b445-41e8-ba69-df8b8cfe7298",
   "metadata": {},
   "outputs": [],
   "source": [
    "# FUNCTION FOR CLASSIFICATION\n",
    "def wo_classify(change):\n",
    "    wo_image = PILImage.create(btn_upload.data[-1])\n",
    "    out_widget.clear_output()\n",
    "    with out_widget : display(wo_image.to_thumb(244))\n",
    "    wo_pred, wo_idx, wo_prob = wo_learn_inf.predict(wo_image)\n",
    "    wo_label.value = f\"Prediction: {wo_pred.capitalize()}, Probability: {wo_prob[wo_idx]:.4}\"\n",
    "    \n",
    "classify_btn.on_click(wo_classify)"
   ]
  },
  {
   "cell_type": "code",
   "execution_count": 24,
   "id": "1d45fe71-97d8-4d93-9d4d-a22a65530a13",
   "metadata": {},
   "outputs": [
    {
     "data": {
      "application/vnd.jupyter.widget-view+json": {
       "model_id": "ff6c9eb478fe4acba0b16253325c499c",
       "version_major": 2,
       "version_minor": 0
      },
      "text/plain": [
       "VBox(children=(Label(value='Upload your image'), FileUpload(value={}, description='Upload'), Button(descriptio…"
      ]
     },
     "metadata": {},
     "output_type": "display_data"
    }
   ],
   "source": [
    "# DISPLAY THE GUI COMPONENTS\n",
    "VBox([widgets.Label('Upload your image'),btn_upload,classify_btn,out_widget,wo_label])"
   ]
  },
  {
   "cell_type": "code",
   "execution_count": null,
   "id": "91f2d844-36b4-4455-9980-74dc9ca82939",
   "metadata": {},
   "outputs": [],
   "source": []
  }
 ],
 "metadata": {
  "kernelspec": {
   "display_name": "Python 3 (ipykernel)",
   "language": "python",
   "name": "python3"
  },
  "language_info": {
   "codemirror_mode": {
    "name": "ipython",
    "version": 3
   },
   "file_extension": ".py",
   "mimetype": "text/x-python",
   "name": "python",
   "nbconvert_exporter": "python",
   "pygments_lexer": "ipython3",
   "version": "3.8.10"
  }
 },
 "nbformat": 4,
 "nbformat_minor": 5
}
